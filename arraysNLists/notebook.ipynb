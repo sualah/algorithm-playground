{
 "cells": [
  {
   "cell_type": "code",
   "execution_count": 1,
   "source": [
    "mylist = [1, 2, 3, 4, 5, 6, 7, 8, 9, 10, 11, 12, 13, 14, 15, 16, 17, 18, 19, 20, 21, 22, 23, 24, 25, 26, 27, 28, 29, 30, 31, 32, 33, 34, 35, 36, 37, 38, 39, 40, 41, 42, 43, 44, 45, 46, 47, 48, 49, 50, 51, 52, 53, 54, 55, 56, 57, 58, 59, 60, 61, 62, 63, 64, 65, 66, 67, 68, 69, 70, 71, 72, 74, 75, 76, 77, 78, 79, 80, 81, 82, 83, 84, 85, 86, 87, 88, 89, 90, 91, 92, 93, 94, 95, 96, 97, 98, 99, 100]\n",
    "\n",
    "def findUniquePairs(list, sum):\n",
    "    for i in range(len(list)):\n",
    "        for j in range(i+1, len(list)):\n",
    "            if (list[i] == list[j]):\n",
    "                continue\n",
    "            if (list[i]+list[j]) == sum:\n",
    "                print(list[i], list[j])\n",
    "                \n",
    "                \n",
    "findUniquePairs(mylist, 100)"
   ],
   "outputs": [
    {
     "output_type": "stream",
     "name": "stdout",
     "text": [
      "1 99\n",
      "2 98\n",
      "3 97\n",
      "4 96\n",
      "5 95\n",
      "6 94\n",
      "7 93\n",
      "8 92\n",
      "9 91\n",
      "10 90\n",
      "11 89\n",
      "12 88\n",
      "13 87\n",
      "14 86\n",
      "15 85\n",
      "16 84\n",
      "17 83\n",
      "18 82\n",
      "19 81\n",
      "20 80\n",
      "21 79\n",
      "22 78\n",
      "23 77\n",
      "24 76\n",
      "25 75\n",
      "26 74\n",
      "28 72\n",
      "29 71\n",
      "30 70\n",
      "31 69\n",
      "32 68\n",
      "33 67\n",
      "34 66\n",
      "35 65\n",
      "36 64\n",
      "37 63\n",
      "38 62\n",
      "39 61\n",
      "40 60\n",
      "41 59\n",
      "42 58\n",
      "43 57\n",
      "44 56\n",
      "45 55\n",
      "46 54\n",
      "47 53\n",
      "48 52\n",
      "49 51\n"
     ]
    }
   ],
   "metadata": {
    "scrolled": true
   }
  },
  {
   "cell_type": "code",
   "execution_count": 2,
   "source": [
    "def findPairs(list, sum):\n",
    "    for i in range(len(list)):\n",
    "        for j in range(i+1,len(list)):\n",
    "            if (list[i]+list[j]) == sum:\n",
    "                print(list[i],list[j])\n",
    "                \n",
    "findPairs(mylist, 100)"
   ],
   "outputs": [
    {
     "output_type": "stream",
     "name": "stdout",
     "text": [
      "1 99\n",
      "2 98\n",
      "3 97\n",
      "4 96\n",
      "5 95\n",
      "6 94\n",
      "7 93\n",
      "8 92\n",
      "9 91\n",
      "10 90\n",
      "11 89\n",
      "12 88\n",
      "13 87\n",
      "14 86\n",
      "15 85\n",
      "16 84\n",
      "17 83\n",
      "18 82\n",
      "19 81\n",
      "20 80\n",
      "21 79\n",
      "22 78\n",
      "23 77\n",
      "24 76\n",
      "25 75\n",
      "26 74\n",
      "28 72\n",
      "29 71\n",
      "30 70\n",
      "31 69\n",
      "32 68\n",
      "33 67\n",
      "34 66\n",
      "35 65\n",
      "36 64\n",
      "37 63\n",
      "38 62\n",
      "39 61\n",
      "40 60\n",
      "41 59\n",
      "42 58\n",
      "43 57\n",
      "44 56\n",
      "45 55\n",
      "46 54\n",
      "47 53\n",
      "48 52\n",
      "49 51\n"
     ]
    }
   ],
   "metadata": {
    "scrolled": true
   }
  },
  {
   "cell_type": "code",
   "execution_count": 3,
   "source": [
    "\n",
    "def findMissing(list, n):\n",
    "    sum1 = sum(list)\n",
    "    sum2 = 100*101/2\n",
    "    print(sum2-sum1)\n",
    "\n",
    "findMissing(mylist, 100)"
   ],
   "outputs": [
    {
     "output_type": "stream",
     "name": "stdout",
     "text": [
      "73.0\n"
     ]
    }
   ],
   "metadata": {}
  },
  {
   "cell_type": "code",
   "execution_count": null,
   "source": [],
   "outputs": [],
   "metadata": {}
  }
 ],
 "metadata": {
  "kernelspec": {
   "name": "python3",
   "display_name": "Python 3.8.5 64-bit ('base': conda)"
  },
  "language_info": {
   "codemirror_mode": {
    "name": "ipython",
    "version": 3
   },
   "file_extension": ".py",
   "mimetype": "text/x-python",
   "name": "python",
   "nbconvert_exporter": "python",
   "pygments_lexer": "ipython3",
   "version": "3.8.5"
  },
  "interpreter": {
   "hash": "a86ea764bbbd4d7a847505459e90a641dca70595397c69e02fb9a43a1b2dc444"
  }
 },
 "nbformat": 4,
 "nbformat_minor": 4
}